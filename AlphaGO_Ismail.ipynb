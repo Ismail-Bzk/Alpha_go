{
  "cells": [
    {
      "cell_type": "code",
      "execution_count": null,
      "metadata": {
        "id": "uOqo5WGQ5CT6"
      },
      "outputs": [],
      "source": [
        "!wget https://www.lamsade.dauphine.fr/~cazenave/project2022.zip\n",
        "!unzip project2022.zip"
      ]
    },
    {
      "cell_type": "code",
      "execution_count": null,
      "metadata": {
        "id": "9yeRa06_5IgR"
      },
      "outputs": [],
      "source": [
        "import numpy as np\n",
        "import keras\n",
        "from keras import layers, regularizers\n",
        "import gc\n",
        "import golois"
      ]
    },
    {
      "cell_type": "code",
      "execution_count": null,
      "metadata": {
        "colab": {
          "base_uri": "https://localhost:8080/"
        },
        "id": "r7ha1zqN64eK",
        "outputId": "6a65abfa-1187-446c-bc23-ad9298f4c075"
      },
      "outputs": [],
      "source": [
        "planes = 31\n",
        "moves = 361\n",
        "N = 10000\n",
        "\n",
        "\n",
        "input_data = np.random.randint(2, size=(N, 19, 19, planes))\n",
        "input_data = input_data.astype ('float32')\n",
        "\n",
        "policy = np.random.randint(moves, size=(N,))\n",
        "policy = keras.utils.to_categorical (policy)\n",
        "\n",
        "value = np.random.randint(2, size=(N,))\n",
        "value = value.astype ('float32')\n",
        "\n",
        "end = np.random.randint(2, size=(N, 19, 19, 2))\n",
        "end = end.astype ('float32')\n",
        "\n",
        "groups = np.zeros((N, 19, 19, 1))\n",
        "groups = groups.astype ('float32')\n",
        "\n",
        "print (\"getValidation\", flush = True)\n",
        "golois.getValidation (input_data, policy, value, end)"
      ]
    },
    {
      "cell_type": "code",
      "execution_count": 3,
      "metadata": {
        "id": "nFDwNC277Zc5"
      },
      "outputs": [],
      "source": [
        "def model_archi(filters=32, planes=31):\n",
        "\n",
        "  input = keras.Input(shape=(19, 19, planes), name='board')\n",
        "  x = layers.Conv2D(filters, 1, activation='relu', padding='same')(input)\n",
        "\n",
        "  for i in range (9):\n",
        "\n",
        "    x1 = layers.DepthwiseConv2D((7,7), padding='same', use_bias=False)(x)\n",
        "    x1 = layers.LayerNormalization()(x1)\n",
        "    x1 = layers.Conv2D(4*filters, 1, padding='same', activation='gelu')(x1)\n",
        "    x1 = layers.Conv2D(filters, 1, padding='same')(x1)\n",
        "    x = layers.add([x1, x])\n",
        "\n",
        "  x = layers.BatchNormalization()(x)\n",
        "\n",
        "  y = layers.Conv2D(1, 1, activation='relu', padding='same', use_bias = False, kernel_regularizer=regularizers.l2(0.0001))(x)\n",
        "  y = layers.Flatten()(y)\n",
        "  policy_head = layers.Activation('softmax', name='policy')(y)\n",
        "\n",
        "  GlobalAveragePooling2D = layers.GlobalAveragePooling2D()(x)\n",
        "  value_head = layers.Dense(50, activation='relu', kernel_regularizer=regularizers.l2(0.0001))(GlobalAveragePooling2D)\n",
        "  value_head = layers.Dense(24, activation='relu', kernel_regularizer=regularizers.l2(0.0001))(value_head)\n",
        "  value_head = layers.Dense(1, activation='sigmoid', name='value', kernel_regularizer=regularizers.l2(0.0001))(value_head)\n",
        "\n",
        "  model = keras.Model(inputs=input, outputs=[policy_head, value_head])\n",
        "  return model"
      ]
    },
    {
      "cell_type": "code",
      "execution_count": 4,
      "metadata": {
        "id": "uQIAcnyA7wyM"
      },
      "outputs": [],
      "source": [
        "from tensorflow.keras.utils import plot_model\n",
        "\n",
        "# Show the model architecture\n",
        "def plot_model_archi(model=model_archi()):\n",
        "  return plot_model(model, show_shapes=True, show_layer_names=True)"
      ]
    },
    {
      "cell_type": "code",
      "execution_count": null,
      "metadata": {
        "id": "mQ_LKmID8ADD"
      },
      "outputs": [],
      "source": [
        "# model training\n",
        "\n",
        "epochs = 100\n",
        "batch = 32\n",
        "\n",
        "\n",
        "\n",
        "def model_train_eval(model=model_archi(), epochs=100,batch =32,lr =0.0005):\n",
        "  model.compile(optimizer=keras.optimizers.AdamW(learning_rate=lr),\n",
        "                loss={'policy': 'categorical_crossentropy', 'value': 'binary_crossentropy'},\n",
        "                loss_weights={'policy' : 1.0, 'value' : 1.0},\n",
        "                metrics={'policy': 'categorical_accuracy', 'value': 'mse'})\n",
        "\n",
        "  for i in range (1, epochs + 1):\n",
        "      print ('epoch ' + str (i))\n",
        "      golois.getBatch (input_data, policy, value, end, groups, i * N)\n",
        "      history = model.fit(input_data,\n",
        "                          {'policy': policy, 'value': value},\n",
        "                          epochs=1, batch_size=batch)\n",
        "\n",
        "\n",
        "      if (i % 5 == 0):\n",
        "          gc.collect ()\n",
        "      if (i % 20 == 0):\n",
        "          golois.getValidation (input_data, policy, value, end)\n",
        "          val = model.evaluate (input_data,\n",
        "                                [policy, value], verbose = 0, batch_size=batch)\n",
        "          print (\"val =\", val)\n",
        "          model.save ('model_val_%s.h5'%str((val[-2])))\n"
      ]
    },
    {
      "cell_type": "code",
      "execution_count": 9,
      "metadata": {
        "colab": {
          "base_uri": "https://localhost:8080/"
        },
        "id": "J3yvvM918U9q",
        "outputId": "22ac5152-4962-4cb3-fe25-92a21720cb5b"
      },
      "outputs": [
        {
          "name": "stdout",
          "output_type": "stream",
          "text": [
            "313/313 [==============================] - 7s 18ms/step - loss: 2.4033 - policy_loss: 1.8591 - value_loss: 0.5377 - policy_categorical_accuracy: 0.4759 - value_mse: 0.0569\n",
            "Model :  FADIL_BOUZKKA_4_4.h5\n",
            "Metric  loss : 2.4032535552978516\n",
            "Metric  policy_loss : 1.8591134548187256\n",
            "Metric  value_loss : 0.5376906394958496\n",
            "Metric  policy_categorical_accuracy : 0.47589999437332153\n",
            "Metric  value_mse : 0.05694003403186798\n"
          ]
        }
      ],
      "source": [
        "# model evaluation\n",
        "model_name = \"FADIL_BOUZKKA_4_4.h5\"\n",
        "model = keras.models.load_model(model_name)\n",
        "score = model.evaluate(input_data,\n",
        "                              {'policy': policy, 'value': value})\n",
        "print(\"Model : \",model_name)\n",
        "for i in range(len(model.metrics_names)):\n",
        "  print(\"Metric \",model.metrics_names[i],\":\",str((score[i])))\n"
      ]
    },
    {
      "cell_type": "code",
      "execution_count": 10,
      "metadata": {
        "colab": {
          "base_uri": "https://localhost:8080/"
        },
        "id": "24O20-BlIM2_",
        "outputId": "23133b85-a957-4e01-bfe1-7ee8d4c96d20"
      },
      "outputs": [
        {
          "name": "stdout",
          "output_type": "stream",
          "text": [
            "313/313 [==============================] - 7s 19ms/step - loss: 2.4033 - policy_loss: 1.8591 - value_loss: 0.5377 - policy_categorical_accuracy: 0.4759 - value_mse: 0.0569\n",
            "Metric for :FADIL_BOUZKKA_4_4.h5 policy_categorical_accuracy : 0.47589999437332153\n",
            "313/313 [==============================] - 5s 15ms/step - loss: 2.4439 - policy_loss: 1.8782 - value_loss: 0.5596 - policy_categorical_accuracy: 0.4714 - value_mse: 0.0653\n",
            "Metric for :FADIL_BOUZKKA_4.h5 policy_categorical_accuracy : 0.4713999927043915\n"
          ]
        }
      ],
      "source": [
        "#Testing all models (printing the accuracy):\n",
        "from pathlib import Path\n",
        "\n",
        "def test_models():\n",
        "\n",
        "  p = Path(\"\")\n",
        "  Files = [str(f) for f in p.glob(\"*.h5\")]\n",
        "\n",
        "  for i in Files:\n",
        "      name = i\n",
        "      aa =keras.models.load_model(name)\n",
        "      score = aa.evaluate(input_data,\n",
        "                                        {'policy': policy, 'value': value})\n",
        "      print(\"Metric for :%s\"%str(Path(i).name),aa.metrics_names[-2],\":\",str((score[-2])))\n",
        "\n",
        "test_models()"
      ]
    }
  ],
  "metadata": {
    "accelerator": "GPU",
    "colab": {
      "gpuType": "T4",
      "provenance": []
    },
    "kernelspec": {
      "display_name": "anprsys",
      "language": "python",
      "name": "anprsys"
    },
    "language_info": {
      "codemirror_mode": {
        "name": "ipython",
        "version": 3
      },
      "file_extension": ".py",
      "mimetype": "text/x-python",
      "name": "python",
      "nbconvert_exporter": "python",
      "pygments_lexer": "ipython3",
      "version": "3.9.13"
    }
  },
  "nbformat": 4,
  "nbformat_minor": 0
}
